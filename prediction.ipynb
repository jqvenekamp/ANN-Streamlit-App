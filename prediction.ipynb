{
 "cells": [
  {
   "cell_type": "markdown",
   "id": "53b94ba6",
   "metadata": {},
   "source": [
    "In this file we'll import the model weights and pickle file such that we can properly preprocess incoming datastreams. We'll start by importing the correct libraries.\n"
   ]
  },
  {
   "cell_type": "code",
   "execution_count": 6,
   "id": "c7d7a9b3",
   "metadata": {},
   "outputs": [],
   "source": [
    "import tensorflow as tf\n",
    "from tensorflow.keras.models import load_model\n",
    "import pickle as pickle\n",
    "import pandas as pd"
   ]
  },
  {
   "cell_type": "markdown",
   "id": "c6e5b7a8",
   "metadata": {},
   "source": [
    "Now, we have to import the model and pickle files."
   ]
  },
  {
   "cell_type": "code",
   "execution_count": 7,
   "id": "849de1b4",
   "metadata": {},
   "outputs": [
    {
     "name": "stderr",
     "output_type": "stream",
     "text": [
      "WARNING:absl:Compiled the loaded model, but the compiled metrics have yet to be built. `model.compile_metrics` will be empty until you train or evaluate the model.\n"
     ]
    }
   ],
   "source": [
    "model = load_model(\"model.h5\")\n",
    "\n",
    "# Load the scaler\n",
    "with open(\"scaler.pkl\", \"rb\") as f:\n",
    "    scaler = pickle.load(f)"
   ]
  },
  {
   "cell_type": "markdown",
   "id": "02b52ccd",
   "metadata": {},
   "source": [
    "Next, we create example input data and preprocess it."
   ]
  },
  {
   "cell_type": "code",
   "execution_count": null,
   "id": "a89e5faf",
   "metadata": {},
   "outputs": [
    {
     "name": "stdout",
     "output_type": "stream",
     "text": [
      "[[-6.72570220e+00  1.02810241e-01 -4.42595721e-03  3.76863211e-01\n",
      "   8.07736563e-01  6.46091668e-01  9.70242551e-01 -8.71019220e-01\n",
      "   1.00000000e+00  0.00000000e+00  0.00000000e+00  0.00000000e+00\n",
      "   1.00000000e+00]]\n",
      "\u001b[1m1/1\u001b[0m \u001b[32m━━━━━━━━━━━━━━━━━━━━\u001b[0m\u001b[37m\u001b[0m \u001b[1m0s\u001b[0m 104ms/step\n",
      "[[0.7119216]]\n"
     ]
    }
   ],
   "source": [
    "input_data = {\n",
    "    'CreditScore': [600],\n",
    "    'Geography': ['France'],\n",
    "    'Gender': ['Male'],\n",
    "    'Age': [40],\n",
    "    'Tenure': [3],\n",
    "    'Balance': [60000],\n",
    "    'NumOfProducts': [2],\n",
    "    'HasCrCard': [1],\n",
    "    'IsActiveMember': [1],\n",
    "    'EstimatedSalary': [50000]\n",
    "}\n",
    "\n",
    "# ColumnTransformer (like scaler) is not directly callable. You need to transform a DataFrame using .transform() or .fit_transform().\n",
    "# First, convert input_data to a DataFrame, then use scaler.transform()\n",
    "\n",
    "input_df = pd.DataFrame(input_data)\n",
    "X = scaler.transform(input_df)\n",
    "print(X)\n",
    "\n",
    "print(model.predict(X))"
   ]
  }
 ],
 "metadata": {
  "kernelspec": {
   "display_name": "tf-env",
   "language": "python",
   "name": "python3"
  },
  "language_info": {
   "codemirror_mode": {
    "name": "ipython",
    "version": 3
   },
   "file_extension": ".py",
   "mimetype": "text/x-python",
   "name": "python",
   "nbconvert_exporter": "python",
   "pygments_lexer": "ipython3",
   "version": "3.11.13"
  }
 },
 "nbformat": 4,
 "nbformat_minor": 5
}
